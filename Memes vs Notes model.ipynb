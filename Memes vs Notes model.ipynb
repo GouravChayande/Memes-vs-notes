{
 "cells": [
  {
   "cell_type": "code",
   "execution_count": 2,
   "metadata": {},
   "outputs": [],
   "source": [
    "from PIL import Image \n",
    "import glob\n",
    "import numpy as np\n",
    "import random"
   ]
  },
  {
   "cell_type": "code",
   "execution_count": 3,
   "metadata": {},
   "outputs": [],
   "source": [
    "#making list to store img data and clearing them to not have residue\n",
    "img_list=[]\n",
    "img1_list=[]\n",
    "img_list.clear()\n",
    "img1_list.clear()\n",
    "\n",
    "#making arrays to store notes and memes    \n",
    "xm=np.empty((256,256,3))\n",
    "xn=np.empty((256,256,3))\n",
    "\n",
    "#importing memes images\n",
    "for file in glob.glob('C:\\\\Users\\\\Gourav\\\\Desktop\\\\programs\\\\DL\\\\reshaped\\\\Memes\\\\*.jpg'):\n",
    "    img = Image.open(file) \n",
    "    img_list.append(img)"
   ]
  },
  {
   "cell_type": "code",
   "execution_count": 4,
   "metadata": {},
   "outputs": [],
   "source": [
    "#storing memes data as arrays\n",
    "xm=np.array(img_list[0])\n",
    "xm=xm.reshape((256*256*3,1))\n",
    "\n",
    "for i in range(len(img_list)-1):\n",
    "    temp=np.array(img_list[i+1])\n",
    "    temp=temp.reshape((256*256*3,1))\n",
    "    xm=np.append(xm,temp,axis=1)"
   ]
  },
  {
   "cell_type": "code",
   "execution_count": 5,
   "metadata": {},
   "outputs": [],
   "source": [
    "#importing notes images\n",
    "for file1 in glob.glob('C:\\\\Users\\\\Gourav\\\\Desktop\\\\programs\\\\DL\\\\reshaped\\\\Notes\\\\*.jpg'):\n",
    "    img1 = Image.open(file1) \n",
    "    img1_list.append(img1)\n",
    "\n",
    "#storing notes data as arrays\n",
    "xn=np.array(img1_list[0])\n",
    "xn=xn.reshape((256*256*3,1))\n",
    "    \n",
    "for i in range(len(img1_list)-1):\n",
    "    temp1=np.array(img1_list[i+1])\n",
    "    temp1=temp1.reshape((256*256*3,1))\n",
    "    xn=np.append(xn,temp1,axis=1)"
   ]
  },
  {
   "cell_type": "code",
   "execution_count": 6,
   "metadata": {},
   "outputs": [],
   "source": [
    "#making input vector by appending memes and notes array\n",
    "x=np.append(xm,xn,axis=1)"
   ]
  },
  {
   "cell_type": "code",
   "execution_count": 7,
   "metadata": {},
   "outputs": [
    {
     "name": "stdout",
     "output_type": "stream",
     "text": [
      "(1600,)\n"
     ]
    }
   ],
   "source": [
    "#making labels for input\n",
    "#0 means memes 1 means notes\n",
    "y0=np.zeros((1,800))\n",
    "y1=np.ones((1,800))\n",
    "y=np.append(y0,y1)\n",
    "Y=y.reshape(1,1600)\n",
    "print(y.shape)"
   ]
  },
  {
   "cell_type": "code",
   "execution_count": 8,
   "metadata": {},
   "outputs": [
    {
     "name": "stdout",
     "output_type": "stream",
     "text": [
      "(1, 1600)\n",
      "(196608, 1600)\n"
     ]
    }
   ],
   "source": [
    "#shuffle data\n",
    "permutation = list(np.random.permutation(1600))\n",
    "x_arr=np.copy(x)\n",
    "y_arr=np.copy(Y)\n",
    "\n",
    "random.seed(1)\n",
    "np.random.shuffle(np.transpose(x_arr))\n",
    "np.transpose(x_arr)\n",
    "\n",
    "random.seed(1)\n",
    "shuff_y=np.random.shuffle(np.transpose(y_arr))\n",
    "np.transpose(y_arr)\n",
    "\n",
    "print(y_arr.shape)\n",
    "print(x_arr.shape)"
   ]
  },
  {
   "cell_type": "code",
   "execution_count": 9,
   "metadata": {},
   "outputs": [],
   "source": [
    "#make test train validation\n",
    "x_train=np.array(x_arr[:1500])\n",
    "y_train=np.array(y_arr[:1500])\n",
    "\n",
    "x_test=np.array(x_arr[1500:1550])\n",
    "y_test=np.array(y_arr[1500:1550])\n",
    "\n",
    "x_val=np.array(x_arr[1550:1600])\n",
    "y_val=np.array(y_arr[1550:1600])"
   ]
  },
  {
   "cell_type": "code",
   "execution_count": 16,
   "metadata": {},
   "outputs": [],
   "source": [
    "#make one hot\n",
    "def one_hot(x):\n",
    "    Y = np.zeros((2,x.shape[0]))\n",
    "    for n,i in enumerate(range(len(x))):\n",
    "        Y[int(x[0][i]),i]=1\n",
    "    return Y\n",
    "\n",
    "Y_train=np.array(one_hot(y_train))\n",
    "Y_test=np.array(one_hot(y_test))\n",
    "Y_val=np.array(one_hot(y_val))"
   ]
  },
  {
   "cell_type": "code",
   "execution_count": 17,
   "metadata": {},
   "outputs": [],
   "source": [
    "#making var to store weights\n",
    "def initialize_parameters(dims):\n",
    "    parameters={}\n",
    "    l = len(dims)\n",
    "    for i in range(1,l):\n",
    "        parameters['W'+str(i)] = np.random.randn(dims[i],dims[i-1])*0.01\n",
    "        parameters['b'+str(i)] = np.zeros((dims[i],1))\n",
    "    return parameters"
   ]
  },
  {
   "cell_type": "code",
   "execution_count": 22,
   "metadata": {},
   "outputs": [],
   "source": [
    "#activation functions\n",
    "def sigmoid(Z):\n",
    "    S = 1 / (1 + np.exp(-Z))\n",
    "    return S\n",
    "\n",
    "def sigmoid_back(dA, Z):\n",
    "  A = 1/(1+np.exp(-Z))\n",
    "  return dA * (1 - A) * A\n",
    "\n",
    "def relu(Z):\n",
    "    R = np.maximum(0, Z)\n",
    "    return R\n",
    "\n",
    "def Relu_back(z):\n",
    "    z[z<=0] = 0\n",
    "    z[z>0] = 1\n",
    "    return z\n",
    "\n",
    "def tanh(z):\n",
    "    return (np.exp(z) - np.exp(-z)) / (np.exp(z) + np.exp(-z))\n",
    "\n",
    "def softmax(x):\n",
    "    e_x = np.exp(x - np.max(x))\n",
    "    return e_x / e_x.sum()"
   ]
  },
  {
   "cell_type": "code",
   "execution_count": 39,
   "metadata": {},
   "outputs": [],
   "source": [
    "#forward propogation model\n",
    "def forward_propagation(X, parameters):\n",
    "    cache = {}\n",
    "    l = len(parameters)//2\n",
    "    cache['A0'] = X\n",
    "    for i in range(1,l+1):\n",
    "        cache['Z'+str(i)] = np.dot(parameters['W'+str(i)],cache['A'+str(i-1)]) + parameters['b'+str(i)]\n",
    "        \n",
    "        cache['A'+str(i)] = relu(cache['Z'+str(i)])\n",
    "        \n",
    "    cache['A'+str(l)] = softmax(cache['Z'+str(l)])\n",
    "            \n",
    "    return cache"
   ]
  },
  {
   "cell_type": "code",
   "execution_count": 20,
   "metadata": {},
   "outputs": [],
   "source": [
    "#cost function \n",
    "def compute_cost(AL, Y):\n",
    "    m = Y.shape[1]\n",
    "    cost = -1 / m * np.sum(Y * np.log(AL) + (1-Y) * np.log(1-AL))\n",
    "    return cost"
   ]
  },
  {
   "cell_type": "code",
   "execution_count": 23,
   "metadata": {},
   "outputs": [],
   "source": [
    "#back prop model\n",
    "def back_propagation(X, Y, parameters, cache):\n",
    "    m = Y.shape[1]\n",
    "    l = len(parameters)//2\n",
    "    back_cache = {}\n",
    "    \n",
    "    \n",
    "    dZ = cache['A'+str(l)] - Y\n",
    "    back_cache['dW'+str(l)] = (1/m)*np.dot(dZ, cache['A'+str(l-1)].T)\n",
    "    back_cache['db'+str(l)] = (1/m)*np.sum(dZ, axis=1, keepdims = True)\n",
    "    \n",
    "    for i in reversed(range(1,l)):\n",
    "        dZ = np.dot(parameters['W'+str(i+1)].T,dZ)*Relu_back(cache['Z'+str(i)])\n",
    "        back_cache['dW'+str(i)] = (1/m)*np.dot(dZ, cache['A'+str(i-1)].T)\n",
    "        back_cache['db'+str(i)] = (1/m)*np.sum(dZ, axis=1, keepdims=True)\n",
    "     \n",
    "    return back_cache"
   ]
  },
  {
   "cell_type": "code",
   "execution_count": 24,
   "metadata": {},
   "outputs": [],
   "source": [
    "#updates weights and biases\n",
    "def update(paramters, back_cache, lr):\n",
    "    l = len(parameters)//2\n",
    "    for i in range(1,l+1):\n",
    "        parameters['W'+str(i)] -= lr*back_cache['dW'+str(i)]\n",
    "        parameters['b'+str(i)] -= lr*back_cache['db'+str(i)]\n",
    "        \n",
    "    return parameters"
   ]
  },
  {
   "cell_type": "code",
   "execution_count": 25,
   "metadata": {},
   "outputs": [],
   "source": [
    "#prediction\n",
    "def predict(pred, Y):\n",
    "  temp=[]\n",
    "  pred = pred.T\n",
    "  for i in pred:\n",
    "    temp.append(np.argmax(i))\n",
    "  \n",
    "  count = 0\n",
    "\n",
    "  for i in range(len(temp)):\n",
    "    if temp[i] == Y[i]:\n",
    "      count+=1\n",
    "      \n",
    "  return count"
   ]
  },
  {
   "cell_type": "code",
   "execution_count": 34,
   "metadata": {},
   "outputs": [],
   "source": [
    "parameters = initialize_parameters([196608, 5000,100, 2])"
   ]
  },
  {
   "cell_type": "code",
   "execution_count": 35,
   "metadata": {},
   "outputs": [],
   "source": [
    "x_train = x_train/255\n",
    "x_val = x_val/255\n",
    "x_test = x_test/255\n"
   ]
  },
  {
   "cell_type": "code",
   "execution_count": 40,
   "metadata": {},
   "outputs": [
    {
     "ename": "ValueError",
     "evalue": "shapes (5000,196608) and (1500,1600) not aligned: 196608 (dim 1) != 1500 (dim 0)",
     "output_type": "error",
     "traceback": [
      "\u001b[1;31m---------------------------------------------------------------------------\u001b[0m",
      "\u001b[1;31mValueError\u001b[0m                                Traceback (most recent call last)",
      "\u001b[1;32m<ipython-input-40-7735cd79b55a>\u001b[0m in \u001b[0;36m<module>\u001b[1;34m\u001b[0m\n\u001b[0;32m      1\u001b[0m \u001b[0mcosts\u001b[0m\u001b[1;33m=\u001b[0m\u001b[1;33m[\u001b[0m\u001b[1;33m]\u001b[0m\u001b[1;33m\u001b[0m\u001b[1;33m\u001b[0m\u001b[0m\n\u001b[0;32m      2\u001b[0m \u001b[1;32mfor\u001b[0m \u001b[0mi\u001b[0m \u001b[1;32min\u001b[0m \u001b[0mrange\u001b[0m\u001b[1;33m(\u001b[0m\u001b[1;36m100\u001b[0m\u001b[1;33m)\u001b[0m\u001b[1;33m:\u001b[0m\u001b[1;33m\u001b[0m\u001b[1;33m\u001b[0m\u001b[0m\n\u001b[1;32m----> 3\u001b[1;33m     \u001b[0mcache\u001b[0m \u001b[1;33m=\u001b[0m \u001b[0mforward_propagation\u001b[0m\u001b[1;33m(\u001b[0m\u001b[0mx_train\u001b[0m\u001b[1;33m,\u001b[0m \u001b[0mparameters\u001b[0m\u001b[1;33m)\u001b[0m\u001b[1;33m\u001b[0m\u001b[1;33m\u001b[0m\u001b[0m\n\u001b[0m\u001b[0;32m      4\u001b[0m     \u001b[0mc\u001b[0m \u001b[1;33m=\u001b[0m \u001b[0mcompute_cost\u001b[0m\u001b[1;33m(\u001b[0m\u001b[0mcache\u001b[0m\u001b[1;33m[\u001b[0m\u001b[1;34m'A'\u001b[0m\u001b[1;33m+\u001b[0m\u001b[0mstr\u001b[0m\u001b[1;33m(\u001b[0m\u001b[0mlen\u001b[0m\u001b[1;33m(\u001b[0m\u001b[1;33m[\u001b[0m\u001b[1;36m196608\u001b[0m\u001b[1;33m,\u001b[0m \u001b[1;36m5000\u001b[0m\u001b[1;33m,\u001b[0m\u001b[1;36m100\u001b[0m\u001b[1;33m,\u001b[0m \u001b[1;36m2\u001b[0m\u001b[1;33m]\u001b[0m\u001b[1;33m)\u001b[0m\u001b[1;33m-\u001b[0m\u001b[1;36m1\u001b[0m\u001b[1;33m)\u001b[0m\u001b[1;33m]\u001b[0m\u001b[1;33m,\u001b[0m\u001b[0mY_train\u001b[0m\u001b[1;33m)\u001b[0m\u001b[1;33m\u001b[0m\u001b[1;33m\u001b[0m\u001b[0m\n\u001b[0;32m      5\u001b[0m     \u001b[1;32mif\u001b[0m \u001b[0mi\u001b[0m \u001b[1;33m%\u001b[0m \u001b[1;36m10\u001b[0m \u001b[1;33m==\u001b[0m \u001b[1;36m0\u001b[0m\u001b[1;33m:\u001b[0m\u001b[1;33m\u001b[0m\u001b[1;33m\u001b[0m\u001b[0m\n",
      "\u001b[1;32m<ipython-input-39-5cb0d0fa8797>\u001b[0m in \u001b[0;36mforward_propagation\u001b[1;34m(X, parameters)\u001b[0m\n\u001b[0;32m      5\u001b[0m     \u001b[0mcache\u001b[0m\u001b[1;33m[\u001b[0m\u001b[1;34m'A0'\u001b[0m\u001b[1;33m]\u001b[0m \u001b[1;33m=\u001b[0m \u001b[0mX\u001b[0m\u001b[1;33m\u001b[0m\u001b[1;33m\u001b[0m\u001b[0m\n\u001b[0;32m      6\u001b[0m     \u001b[1;32mfor\u001b[0m \u001b[0mi\u001b[0m \u001b[1;32min\u001b[0m \u001b[0mrange\u001b[0m\u001b[1;33m(\u001b[0m\u001b[1;36m1\u001b[0m\u001b[1;33m,\u001b[0m\u001b[0ml\u001b[0m\u001b[1;33m+\u001b[0m\u001b[1;36m1\u001b[0m\u001b[1;33m)\u001b[0m\u001b[1;33m:\u001b[0m\u001b[1;33m\u001b[0m\u001b[1;33m\u001b[0m\u001b[0m\n\u001b[1;32m----> 7\u001b[1;33m         \u001b[0mcache\u001b[0m\u001b[1;33m[\u001b[0m\u001b[1;34m'Z'\u001b[0m\u001b[1;33m+\u001b[0m\u001b[0mstr\u001b[0m\u001b[1;33m(\u001b[0m\u001b[0mi\u001b[0m\u001b[1;33m)\u001b[0m\u001b[1;33m]\u001b[0m \u001b[1;33m=\u001b[0m \u001b[0mnp\u001b[0m\u001b[1;33m.\u001b[0m\u001b[0mdot\u001b[0m\u001b[1;33m(\u001b[0m\u001b[0mparameters\u001b[0m\u001b[1;33m[\u001b[0m\u001b[1;34m'W'\u001b[0m\u001b[1;33m+\u001b[0m\u001b[0mstr\u001b[0m\u001b[1;33m(\u001b[0m\u001b[0mi\u001b[0m\u001b[1;33m)\u001b[0m\u001b[1;33m]\u001b[0m\u001b[1;33m,\u001b[0m\u001b[0mcache\u001b[0m\u001b[1;33m[\u001b[0m\u001b[1;34m'A'\u001b[0m\u001b[1;33m+\u001b[0m\u001b[0mstr\u001b[0m\u001b[1;33m(\u001b[0m\u001b[0mi\u001b[0m\u001b[1;33m-\u001b[0m\u001b[1;36m1\u001b[0m\u001b[1;33m)\u001b[0m\u001b[1;33m]\u001b[0m\u001b[1;33m)\u001b[0m \u001b[1;33m+\u001b[0m \u001b[0mparameters\u001b[0m\u001b[1;33m[\u001b[0m\u001b[1;34m'b'\u001b[0m\u001b[1;33m+\u001b[0m\u001b[0mstr\u001b[0m\u001b[1;33m(\u001b[0m\u001b[0mi\u001b[0m\u001b[1;33m)\u001b[0m\u001b[1;33m]\u001b[0m\u001b[1;33m\u001b[0m\u001b[1;33m\u001b[0m\u001b[0m\n\u001b[0m\u001b[0;32m      8\u001b[0m \u001b[1;33m\u001b[0m\u001b[0m\n\u001b[0;32m      9\u001b[0m         \u001b[0mcache\u001b[0m\u001b[1;33m[\u001b[0m\u001b[1;34m'A'\u001b[0m\u001b[1;33m+\u001b[0m\u001b[0mstr\u001b[0m\u001b[1;33m(\u001b[0m\u001b[0mi\u001b[0m\u001b[1;33m)\u001b[0m\u001b[1;33m]\u001b[0m \u001b[1;33m=\u001b[0m \u001b[0mrelu\u001b[0m\u001b[1;33m(\u001b[0m\u001b[0mcache\u001b[0m\u001b[1;33m[\u001b[0m\u001b[1;34m'Z'\u001b[0m\u001b[1;33m+\u001b[0m\u001b[0mstr\u001b[0m\u001b[1;33m(\u001b[0m\u001b[0mi\u001b[0m\u001b[1;33m)\u001b[0m\u001b[1;33m]\u001b[0m\u001b[1;33m)\u001b[0m\u001b[1;33m\u001b[0m\u001b[1;33m\u001b[0m\u001b[0m\n",
      "\u001b[1;31mValueError\u001b[0m: shapes (5000,196608) and (1500,1600) not aligned: 196608 (dim 1) != 1500 (dim 0)"
     ]
    }
   ],
   "source": [
    "costs=[]\n",
    "for i in range(100):\n",
    "    cache = forward_propagation(x_train, parameters)\n",
    "    c = compute_cost(cache['A'+str(len([196608, 5000,100, 2])-1)],Y_train)\n",
    "    if i % 10 == 0:\n",
    "            print(\"Cost after iteration %i: %f\" %(i, c))\n",
    "    costs.append(c)\n",
    "    grads = back_propagation(x_train, Y_train, parameters, cache)\n",
    "    \n",
    "    parameters = update(parameters, grads, 0.008)"
   ]
  }
 ],
 "metadata": {
  "kernelspec": {
   "display_name": "Python 3",
   "language": "python",
   "name": "python3"
  },
  "language_info": {
   "codemirror_mode": {
    "name": "ipython",
    "version": 3
   },
   "file_extension": ".py",
   "mimetype": "text/x-python",
   "name": "python",
   "nbconvert_exporter": "python",
   "pygments_lexer": "ipython3",
   "version": "3.7.4"
  }
 },
 "nbformat": 4,
 "nbformat_minor": 2
}
