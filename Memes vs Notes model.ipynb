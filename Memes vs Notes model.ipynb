{
 "cells": [
  {
   "cell_type": "code",
   "execution_count": 3,
   "metadata": {},
   "outputs": [],
   "source": [
    "from PIL import Image \n",
    "import glob\n",
    "import numpy as np\n",
    "import random"
   ]
  },
  {
   "cell_type": "code",
   "execution_count": 5,
   "metadata": {},
   "outputs": [],
   "source": [
    "#making list to store img data and clearing them to not have residue\n",
    "img_list=[]\n",
    "img1_list=[]\n",
    "img_list.clear()\n",
    "img1_list.clear()\n",
    "\n",
    "#making arrays to store notes and memes    \n",
    "xm=np.empty((256,256,3))\n",
    "xn=np.empty((256,256,3))\n",
    "\n",
    "#importing memes images\n",
    "for file in glob.glob('C:\\\\Users\\\\Gourav\\\\Desktop\\\\programs\\\\DL\\\\reshaped\\\\Memes\\\\*.jpg'):\n",
    "    img = Image.open(file) \n",
    "    img_list.append(img)"
   ]
  },
  {
   "cell_type": "code",
   "execution_count": 6,
   "metadata": {},
   "outputs": [],
   "source": [
    "#storing memes data as arrays\n",
    "xm=np.array(img_list[0])\n",
    "xm=xm.reshape((256*256*3,1))\n",
    "\n",
    "for i in range(len(img_list)-1):\n",
    "    temp=np.array(img_list[i+1])\n",
    "    temp=temp.reshape((256*256*3,1))\n",
    "    xm=np.append(xm,temp,axis=1)"
   ]
  },
  {
   "cell_type": "code",
   "execution_count": 7,
   "metadata": {},
   "outputs": [],
   "source": [
    "#importing notes images\n",
    "for file1 in glob.glob('C:\\\\Users\\\\Gourav\\\\Desktop\\\\programs\\\\DL\\\\reshaped\\\\Notes\\\\*.jpg'):\n",
    "    img1 = Image.open(file1) \n",
    "    img1_list.append(img1)\n",
    "\n",
    "#storing notes data as arrays\n",
    "xn=np.array(img1_list[0])\n",
    "xn=xn.reshape((256*256*3,1))\n",
    "    \n",
    "for i in range(len(img1_list)-1):\n",
    "    temp1=np.array(img1_list[i+1])\n",
    "    temp1=temp1.reshape((256*256*3,1))\n",
    "    xn=np.append(xn,temp1,axis=1)"
   ]
  },
  {
   "cell_type": "code",
   "execution_count": 8,
   "metadata": {},
   "outputs": [],
   "source": [
    "#making input vector by appending memes and notes array\n",
    "x=np.append(xm,xn,axis=1)"
   ]
  },
  {
   "cell_type": "code",
   "execution_count": 9,
   "metadata": {},
   "outputs": [
    {
     "name": "stdout",
     "output_type": "stream",
     "text": [
      "(1600,)\n"
     ]
    }
   ],
   "source": [
    "#making labels for input\n",
    "#0 means memes 1 means notes\n",
    "y0=np.zeros((1,800))\n",
    "y1=np.ones((1,800))\n",
    "y=np.append(y0,y1)\n",
    "Y=y.reshape(1,1600)\n",
    "print(y.shape)"
   ]
  },
  {
   "cell_type": "code",
   "execution_count": 10,
   "metadata": {},
   "outputs": [
    {
     "name": "stdout",
     "output_type": "stream",
     "text": [
      "(1, 1600)\n",
      "(196608, 1600)\n"
     ]
    }
   ],
   "source": [
    "#shuffle data\n",
    "permutation = list(np.random.permutation(1600))\n",
    "x_arr=np.copy(x)\n",
    "y_arr=np.copy(Y)\n",
    "#shuffled_X = x_arr[:, permutation]\n",
    "#shuffled_Y = y_arr[permutation]\n",
    "#shuffled_Y.reshape(1,1600)\n",
    "random.seed(1)\n",
    "np.random.shuffle(np.transpose(x_arr))\n",
    "np.transpose(x_arr)\n",
    "\n",
    "random.seed(1)\n",
    "shuff_y=np.random.shuffle(np.transpose(y_arr))\n",
    "np.transpose(y_arr)\n",
    "\n",
    "print(y_arr.shape)\n",
    "print(x_arr.shape)"
   ]
  },
  {
   "cell_type": "code",
   "execution_count": 15,
   "metadata": {},
   "outputs": [],
   "source": [
    "#make test train validation\n",
    "x_train=np.array(x_arr[:1500])\n",
    "y_train=np.array(y_arr[:1500])\n",
    "\n",
    "x_test=np.array(x_arr[1500:1550])\n",
    "y_test=np.array(y_arr[1500:1550])\n",
    "\n",
    "x_val=np.array(x_arr[1550:1600])\n",
    "y_val=np.array(y_arr[1550:1600])"
   ]
  },
  {
   "cell_type": "code",
   "execution_count": 20,
   "metadata": {},
   "outputs": [
    {
     "name": "stdout",
     "output_type": "stream",
     "text": [
      "<class 'tuple'>\n"
     ]
    },
    {
     "ename": "TypeError",
     "evalue": "int() argument must be a string, a bytes-like object or a number, not 'tuple'",
     "output_type": "error",
     "traceback": [
      "\u001b[1;31m---------------------------------------------------------------------------\u001b[0m",
      "\u001b[1;31mTypeError\u001b[0m                                 Traceback (most recent call last)",
      "\u001b[1;32m<ipython-input-20-421cf948a1ee>\u001b[0m in \u001b[0;36m<module>\u001b[1;34m\u001b[0m\n\u001b[0;32m     11\u001b[0m \u001b[1;33m\u001b[0m\u001b[0m\n\u001b[0;32m     12\u001b[0m \u001b[0mprint\u001b[0m\u001b[1;33m(\u001b[0m\u001b[0mtype\u001b[0m\u001b[1;33m(\u001b[0m\u001b[0my_train\u001b[0m\u001b[1;33m.\u001b[0m\u001b[0mshape\u001b[0m\u001b[1;33m)\u001b[0m\u001b[1;33m)\u001b[0m\u001b[1;33m\u001b[0m\u001b[1;33m\u001b[0m\u001b[0m\n\u001b[1;32m---> 13\u001b[1;33m \u001b[0mY_train\u001b[0m\u001b[1;33m=\u001b[0m\u001b[0mone_hot\u001b[0m\u001b[1;33m(\u001b[0m\u001b[0my_train\u001b[0m\u001b[1;33m)\u001b[0m\u001b[1;33m\u001b[0m\u001b[1;33m\u001b[0m\u001b[0m\n\u001b[0m\u001b[0;32m     14\u001b[0m \u001b[0mY_test\u001b[0m\u001b[1;33m=\u001b[0m\u001b[0mone_hot\u001b[0m\u001b[1;33m(\u001b[0m\u001b[0my_test\u001b[0m\u001b[1;33m)\u001b[0m\u001b[1;33m\u001b[0m\u001b[1;33m\u001b[0m\u001b[0m\n\u001b[0;32m     15\u001b[0m \u001b[0mY_val\u001b[0m\u001b[1;33m=\u001b[0m\u001b[0mone_hot\u001b[0m\u001b[1;33m(\u001b[0m\u001b[0my_val\u001b[0m\u001b[1;33m)\u001b[0m\u001b[1;33m\u001b[0m\u001b[1;33m\u001b[0m\u001b[0m\n",
      "\u001b[1;32m<ipython-input-20-421cf948a1ee>\u001b[0m in \u001b[0;36mone_hot\u001b[1;34m(x)\u001b[0m\n\u001b[0;32m      1\u001b[0m \u001b[1;31m#make one hot\u001b[0m\u001b[1;33m\u001b[0m\u001b[1;33m\u001b[0m\u001b[1;33m\u001b[0m\u001b[0m\n\u001b[0;32m      2\u001b[0m \u001b[1;32mdef\u001b[0m \u001b[0mone_hot\u001b[0m\u001b[1;33m(\u001b[0m\u001b[0mx\u001b[0m\u001b[1;33m)\u001b[0m\u001b[1;33m:\u001b[0m\u001b[1;33m\u001b[0m\u001b[1;33m\u001b[0m\u001b[0m\n\u001b[1;32m----> 3\u001b[1;33m     \u001b[0mY\u001b[0m \u001b[1;33m=\u001b[0m \u001b[0mnp\u001b[0m\u001b[1;33m.\u001b[0m\u001b[0mzeros\u001b[0m\u001b[1;33m(\u001b[0m\u001b[1;33m(\u001b[0m\u001b[1;36m2\u001b[0m\u001b[1;33m,\u001b[0m\u001b[0mint\u001b[0m\u001b[1;33m(\u001b[0m\u001b[0mx\u001b[0m\u001b[1;33m.\u001b[0m\u001b[0mshape\u001b[0m\u001b[1;33m)\u001b[0m\u001b[1;33m)\u001b[0m\u001b[1;33m)\u001b[0m\u001b[1;33m\u001b[0m\u001b[1;33m\u001b[0m\u001b[0m\n\u001b[0m\u001b[0;32m      4\u001b[0m     \u001b[1;32mfor\u001b[0m \u001b[0mn\u001b[0m\u001b[1;33m,\u001b[0m\u001b[0mi\u001b[0m \u001b[1;32min\u001b[0m \u001b[0menumerated\u001b[0m\u001b[1;33m(\u001b[0m\u001b[0mrange\u001b[0m\u001b[1;33m(\u001b[0m\u001b[0mlen\u001b[0m\u001b[1;33m(\u001b[0m\u001b[0mx\u001b[0m\u001b[1;33m)\u001b[0m\u001b[1;33m)\u001b[0m\u001b[1;33m)\u001b[0m\u001b[1;33m:\u001b[0m\u001b[1;33m\u001b[0m\u001b[1;33m\u001b[0m\u001b[0m\n\u001b[0;32m      5\u001b[0m         \u001b[0mY\u001b[0m\u001b[1;33m[\u001b[0m\u001b[0mint\u001b[0m\u001b[1;33m(\u001b[0m\u001b[0mx\u001b[0m\u001b[1;33m[\u001b[0m\u001b[0mi\u001b[0m\u001b[1;33m]\u001b[0m\u001b[1;33m)\u001b[0m\u001b[1;33m,\u001b[0m\u001b[0mi\u001b[0m\u001b[1;33m]\u001b[0m\u001b[1;33m=\u001b[0m\u001b[1;36m1\u001b[0m\u001b[1;33m\u001b[0m\u001b[1;33m\u001b[0m\u001b[0m\n",
      "\u001b[1;31mTypeError\u001b[0m: int() argument must be a string, a bytes-like object or a number, not 'tuple'"
     ]
    }
   ],
   "source": [
    "#make one hot\n",
    "def one_hot(x):\n",
    "    Y = np.zeros((2,int(x.shape)))\n",
    "    for n,i in enumerated(range(len(x))):\n",
    "        Y[int(x[i]),i]=1\n",
    "    return Y\n",
    "\n",
    "#Y_train=np.zeros_like(y_train)\n",
    "#Y_test=np.zeros_like(y_test)\n",
    "#Y_val=np.zeros_like(y_val)\n",
    "\n",
    "print(type(y_train.shape))\n",
    "Y_train=one_hot(y_train)\n",
    "Y_test=one_hot(y_test)\n",
    "Y_val=one_hot(y_val)"
   ]
  }
 ],
 "metadata": {
  "kernelspec": {
   "display_name": "Python 3",
   "language": "python",
   "name": "python3"
  },
  "language_info": {
   "codemirror_mode": {
    "name": "ipython",
    "version": 3
   },
   "file_extension": ".py",
   "mimetype": "text/x-python",
   "name": "python",
   "nbconvert_exporter": "python",
   "pygments_lexer": "ipython3",
   "version": "3.7.4"
  }
 },
 "nbformat": 4,
 "nbformat_minor": 2
}
